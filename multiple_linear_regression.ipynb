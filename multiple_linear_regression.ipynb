{
 "cells": [
  {
   "cell_type": "code",
   "execution_count": 1,
   "metadata": {},
   "outputs": [],
   "source": [
    "import pandas as pd\n",
    "import numpy as np\n",
    "import statsmodels.api as sm\n",
    "from statsmodels.api import add_constant\n",
    "from statsmodels.sandbox.regression.predstd import wls_prediction_std"
   ]
  },
  {
   "cell_type": "code",
   "execution_count": 2,
   "metadata": {},
   "outputs": [
    {
     "name": "stdout",
     "output_type": "stream",
     "text": [
      "WARNING *** file size (10909) not 512 + multiple of sector size (512)\n",
      "WARNING *** OLE2 inconsistency: SSCS size is 0 but SSAT size is non-zero\n"
     ]
    }
   ],
   "source": [
    "df = pd.read_excel(\"./data-table-B3.XLS\")"
   ]
  },
  {
   "cell_type": "code",
   "execution_count": 3,
   "metadata": {},
   "outputs": [],
   "source": [
    "df = df.sample(n=22)"
   ]
  },
  {
   "cell_type": "code",
   "execution_count": 4,
   "metadata": {},
   "outputs": [
    {
     "data": {
      "text/html": [
       "<div>\n",
       "<style scoped>\n",
       "    .dataframe tbody tr th:only-of-type {\n",
       "        vertical-align: middle;\n",
       "    }\n",
       "\n",
       "    .dataframe tbody tr th {\n",
       "        vertical-align: top;\n",
       "    }\n",
       "\n",
       "    .dataframe thead th {\n",
       "        text-align: right;\n",
       "    }\n",
       "</style>\n",
       "<table border=\"1\" class=\"dataframe\">\n",
       "  <thead>\n",
       "    <tr style=\"text-align: right;\">\n",
       "      <th></th>\n",
       "      <th>y</th>\n",
       "      <th>x1</th>\n",
       "      <th>x2</th>\n",
       "      <th>x3</th>\n",
       "      <th>x4</th>\n",
       "      <th>x5</th>\n",
       "      <th>x6</th>\n",
       "      <th>x7</th>\n",
       "      <th>x8</th>\n",
       "      <th>x9</th>\n",
       "      <th>x10</th>\n",
       "      <th>x11</th>\n",
       "    </tr>\n",
       "  </thead>\n",
       "  <tbody>\n",
       "    <tr>\n",
       "      <th>11</th>\n",
       "      <td>36.50</td>\n",
       "      <td>85.3</td>\n",
       "      <td>80</td>\n",
       "      <td>83.0</td>\n",
       "      <td>8.5</td>\n",
       "      <td>3.89</td>\n",
       "      <td>2</td>\n",
       "      <td>4</td>\n",
       "      <td>160.6</td>\n",
       "      <td>62.2</td>\n",
       "      <td>2009</td>\n",
       "      <td>0</td>\n",
       "    </tr>\n",
       "    <tr>\n",
       "      <th>7</th>\n",
       "      <td>21.47</td>\n",
       "      <td>262.0</td>\n",
       "      <td>110</td>\n",
       "      <td>200.0</td>\n",
       "      <td>8.5</td>\n",
       "      <td>2.56</td>\n",
       "      <td>2</td>\n",
       "      <td>3</td>\n",
       "      <td>179.3</td>\n",
       "      <td>65.4</td>\n",
       "      <td>3180</td>\n",
       "      <td>1</td>\n",
       "    </tr>\n",
       "    <tr>\n",
       "      <th>20</th>\n",
       "      <td>23.54</td>\n",
       "      <td>231.0</td>\n",
       "      <td>110</td>\n",
       "      <td>175.0</td>\n",
       "      <td>8.0</td>\n",
       "      <td>2.56</td>\n",
       "      <td>2</td>\n",
       "      <td>3</td>\n",
       "      <td>179.3</td>\n",
       "      <td>65.4</td>\n",
       "      <td>3050</td>\n",
       "      <td>1</td>\n",
       "    </tr>\n",
       "    <tr>\n",
       "      <th>31</th>\n",
       "      <td>16.50</td>\n",
       "      <td>360.0</td>\n",
       "      <td>165</td>\n",
       "      <td>255.0</td>\n",
       "      <td>8.5</td>\n",
       "      <td>2.73</td>\n",
       "      <td>4</td>\n",
       "      <td>3</td>\n",
       "      <td>185.2</td>\n",
       "      <td>69.0</td>\n",
       "      <td>3660</td>\n",
       "      <td>1</td>\n",
       "    </tr>\n",
       "    <tr>\n",
       "      <th>23</th>\n",
       "      <td>31.90</td>\n",
       "      <td>96.9</td>\n",
       "      <td>75</td>\n",
       "      <td>83.0</td>\n",
       "      <td>9.0</td>\n",
       "      <td>4.30</td>\n",
       "      <td>2</td>\n",
       "      <td>5</td>\n",
       "      <td>165.2</td>\n",
       "      <td>61.8</td>\n",
       "      <td>2275</td>\n",
       "      <td>0</td>\n",
       "    </tr>\n",
       "  </tbody>\n",
       "</table>\n",
       "</div>"
      ],
      "text/plain": [
       "        y     x1   x2     x3   x4    x5  x6  x7     x8    x9   x10  x11\n",
       "11  36.50   85.3   80   83.0  8.5  3.89   2   4  160.6  62.2  2009    0\n",
       "7   21.47  262.0  110  200.0  8.5  2.56   2   3  179.3  65.4  3180    1\n",
       "20  23.54  231.0  110  175.0  8.0  2.56   2   3  179.3  65.4  3050    1\n",
       "31  16.50  360.0  165  255.0  8.5  2.73   4   3  185.2  69.0  3660    1\n",
       "23  31.90   96.9   75   83.0  9.0  4.30   2   5  165.2  61.8  2275    0"
      ]
     },
     "execution_count": 4,
     "metadata": {},
     "output_type": "execute_result"
    }
   ],
   "source": [
    "df.head()"
   ]
  },
  {
   "cell_type": "markdown",
   "metadata": {},
   "source": [
    "A. Fit a multiple linear regression model relatmg gasoline mileage y (miles per\n",
    "gallon) to engine displacement x1 and the number of carburetor barrels x6 ."
   ]
  },
  {
   "cell_type": "code",
   "execution_count": 55,
   "metadata": {},
   "outputs": [
    {
     "name": "stdout",
     "output_type": "stream",
     "text": [
      "x1   -0.003435\n",
      "x6    6.575100\n",
      "dtype: float64\n"
     ]
    }
   ],
   "source": [
    "X = df[['x1', 'x6']]\n",
    "y = df['y']\n",
    "\n",
    "reg = sm.OLS(y, X)\n",
    "fit = reg.fit()\n",
    "print(fit.params)"
   ]
  },
  {
   "cell_type": "markdown",
   "metadata": {},
   "source": [
    "b. Construct the analysis - of - variance table and test for signifi cance of regression."
   ]
  },
  {
   "cell_type": "code",
   "execution_count": 56,
   "metadata": {},
   "outputs": [
    {
     "data": {
      "text/html": [
       "<table class=\"simpletable\">\n",
       "<caption>OLS Regression Results</caption>\n",
       "<tr>\n",
       "  <th>Dep. Variable:</th>            <td>y</td>        <th>  R-squared (uncentered):</th>      <td>   0.689</td>\n",
       "</tr>\n",
       "<tr>\n",
       "  <th>Model:</th>                   <td>OLS</td>       <th>  Adj. R-squared (uncentered):</th> <td>   0.658</td>\n",
       "</tr>\n",
       "<tr>\n",
       "  <th>Method:</th>             <td>Least Squares</td>  <th>  F-statistic:       </th>          <td>   22.18</td>\n",
       "</tr>\n",
       "<tr>\n",
       "  <th>Date:</th>             <td>Wed, 16 Sep 2020</td> <th>  Prob (F-statistic):</th>          <td>8.39e-06</td>\n",
       "</tr>\n",
       "<tr>\n",
       "  <th>Time:</th>                 <td>14:46:14</td>     <th>  Log-Likelihood:    </th>          <td> -85.662</td>\n",
       "</tr>\n",
       "<tr>\n",
       "  <th>No. Observations:</th>      <td>    22</td>      <th>  AIC:               </th>          <td>   175.3</td>\n",
       "</tr>\n",
       "<tr>\n",
       "  <th>Df Residuals:</th>          <td>    20</td>      <th>  BIC:               </th>          <td>   177.5</td>\n",
       "</tr>\n",
       "<tr>\n",
       "  <th>Df Model:</th>              <td>     2</td>      <th>                     </th>              <td> </td>   \n",
       "</tr>\n",
       "<tr>\n",
       "  <th>Covariance Type:</th>      <td>nonrobust</td>    <th>                     </th>              <td> </td>   \n",
       "</tr>\n",
       "</table>\n",
       "<table class=\"simpletable\">\n",
       "<tr>\n",
       "   <td></td>     <th>coef</th>     <th>std err</th>      <th>t</th>      <th>P>|t|</th>  <th>[0.025</th>    <th>0.975]</th>  \n",
       "</tr>\n",
       "<tr>\n",
       "  <th>x1</th> <td>   -0.0034</td> <td>    0.029</td> <td>   -0.119</td> <td> 0.907</td> <td>   -0.064</td> <td>    0.057</td>\n",
       "</tr>\n",
       "<tr>\n",
       "  <th>x6</th> <td>    6.5751</td> <td>    3.142</td> <td>    2.092</td> <td> 0.049</td> <td>    0.020</td> <td>   13.130</td>\n",
       "</tr>\n",
       "</table>\n",
       "<table class=\"simpletable\">\n",
       "<tr>\n",
       "  <th>Omnibus:</th>       <td> 6.119</td> <th>  Durbin-Watson:     </th> <td>   2.357</td>\n",
       "</tr>\n",
       "<tr>\n",
       "  <th>Prob(Omnibus):</th> <td> 0.047</td> <th>  Jarque-Bera (JB):  </th> <td>   1.731</td>\n",
       "</tr>\n",
       "<tr>\n",
       "  <th>Skew:</th>          <td>-0.042</td> <th>  Prob(JB):          </th> <td>   0.421</td>\n",
       "</tr>\n",
       "<tr>\n",
       "  <th>Kurtosis:</th>      <td> 1.628</td> <th>  Cond. No.          </th> <td>    366.</td>\n",
       "</tr>\n",
       "</table><br/><br/>Notes:<br/>[1] R² is computed without centering (uncentered) since the model does not contain a constant.<br/>[2] Standard Errors assume that the covariance matrix of the errors is correctly specified."
      ],
      "text/plain": [
       "<class 'statsmodels.iolib.summary.Summary'>\n",
       "\"\"\"\n",
       "                                 OLS Regression Results                                \n",
       "=======================================================================================\n",
       "Dep. Variable:                      y   R-squared (uncentered):                   0.689\n",
       "Model:                            OLS   Adj. R-squared (uncentered):              0.658\n",
       "Method:                 Least Squares   F-statistic:                              22.18\n",
       "Date:                Wed, 16 Sep 2020   Prob (F-statistic):                    8.39e-06\n",
       "Time:                        14:46:14   Log-Likelihood:                         -85.662\n",
       "No. Observations:                  22   AIC:                                      175.3\n",
       "Df Residuals:                      20   BIC:                                      177.5\n",
       "Df Model:                           2                                                  \n",
       "Covariance Type:            nonrobust                                                  \n",
       "==============================================================================\n",
       "                 coef    std err          t      P>|t|      [0.025      0.975]\n",
       "------------------------------------------------------------------------------\n",
       "x1            -0.0034      0.029     -0.119      0.907      -0.064       0.057\n",
       "x6             6.5751      3.142      2.092      0.049       0.020      13.130\n",
       "==============================================================================\n",
       "Omnibus:                        6.119   Durbin-Watson:                   2.357\n",
       "Prob(Omnibus):                  0.047   Jarque-Bera (JB):                1.731\n",
       "Skew:                          -0.042   Prob(JB):                        0.421\n",
       "Kurtosis:                       1.628   Cond. No.                         366.\n",
       "==============================================================================\n",
       "\n",
       "Notes:\n",
       "[1] R² is computed without centering (uncentered) since the model does not contain a constant.\n",
       "[2] Standard Errors assume that the covariance matrix of the errors is correctly specified.\n",
       "\"\"\""
      ]
     },
     "execution_count": 56,
     "metadata": {},
     "output_type": "execute_result"
    }
   ],
   "source": [
    "fit.summary()"
   ]
  },
  {
   "cell_type": "markdown",
   "metadata": {},
   "source": [
    " c. Calculate R2 and RAdj 2 for this model. Compare this to the R2 and the RAdj 2 for the simple linear regression model relating mileage to engine displacement in Problem 2.4."
   ]
  },
  {
   "cell_type": "markdown",
   "metadata": {},
   "source": [
    "<font color=\"blue\">Indicated above</font>\n",
    "\n",
    "R-sq = 0.689 <br>\n",
    "Adj Rsq = 0.658\n",
    "\n",
    "<font color=\"blue\">Problem 2.4 below</font>\n",
    "The R-squared and adj R-sq had increased with the additional regressors."
   ]
  },
  {
   "cell_type": "code",
   "execution_count": 57,
   "metadata": {},
   "outputs": [],
   "source": [
    "df24 = df.dropna()"
   ]
  },
  {
   "cell_type": "code",
   "execution_count": 59,
   "metadata": {},
   "outputs": [
    {
     "name": "stdout",
     "output_type": "stream",
     "text": [
      "                                 OLS Regression Results                                \n",
      "=======================================================================================\n",
      "Dep. Variable:                      y   R-squared (uncentered):                   0.989\n",
      "Model:                            OLS   Adj. R-squared (uncentered):              0.977\n",
      "Method:                 Least Squares   F-statistic:                              83.52\n",
      "Date:                Wed, 16 Sep 2020   Prob (F-statistic):                    2.51e-08\n",
      "Time:                        14:46:45   Log-Likelihood:                         -46.001\n",
      "No. Observations:                  21   AIC:                                      114.0\n",
      "Df Residuals:                      10   BIC:                                      125.5\n",
      "Df Model:                          11                                                  \n",
      "Covariance Type:            nonrobust                                                  \n",
      "==============================================================================\n",
      "                 coef    std err          t      P>|t|      [0.025      0.975]\n",
      "------------------------------------------------------------------------------\n",
      "x1            -0.0616      0.069     -0.891      0.394      -0.216       0.092\n",
      "x2            -0.0863      0.134     -0.642      0.536      -0.386       0.213\n",
      "x3             0.0373      0.107      0.349      0.735      -0.201       0.275\n",
      "x4             4.4100      3.897      1.132      0.284      -4.273      13.093\n",
      "x5             3.0137      4.005      0.753      0.469      -5.909      11.936\n",
      "x6             1.2755      2.286      0.558      0.589      -3.818       6.369\n",
      "x7            -3.5829      5.347     -0.670      0.518     -15.496       8.331\n",
      "x8             0.0977      0.153      0.639      0.537      -0.243       0.439\n",
      "x9            -0.2268      0.356     -0.637      0.538      -1.020       0.566\n",
      "x10            0.0010      0.007      0.144      0.888      -0.015       0.017\n",
      "x11           -2.4546      5.896     -0.416      0.686     -15.593      10.684\n",
      "==============================================================================\n",
      "Omnibus:                        2.081   Durbin-Watson:                   1.868\n",
      "Prob(Omnibus):                  0.353   Jarque-Bera (JB):                1.185\n",
      "Skew:                           0.237   Prob(JB):                        0.553\n",
      "Kurtosis:                       1.937   Cond. No.                     4.31e+04\n",
      "==============================================================================\n",
      "\n",
      "Notes:\n",
      "[1] R² is computed without centering (uncentered) since the model does not contain a constant.\n",
      "[2] Standard Errors assume that the covariance matrix of the errors is correctly specified.\n",
      "[3] The condition number is large, 4.31e+04. This might indicate that there are\n",
      "strong multicollinearity or other numerical problems.\n"
     ]
    }
   ],
   "source": [
    "# 2.4 uses all regressors\n",
    "X24 = df24.loc[:, df24.columns !='y']\n",
    "y24 = df24['y']\n",
    "\n",
    "reg24 = sm.OLS(y24, X24)\n",
    "fit24 = reg24.fit()\n",
    "print(fit24.summary())"
   ]
  },
  {
   "cell_type": "markdown",
   "metadata": {},
   "source": [
    " d. Find a 95% CI for β1 ."
   ]
  },
  {
   "cell_type": "code",
   "execution_count": 60,
   "metadata": {},
   "outputs": [
    {
     "data": {
      "text/plain": [
       "[-0.064, 0.057]"
      ]
     },
     "execution_count": 60,
     "metadata": {},
     "output_type": "execute_result"
    }
   ],
   "source": [
    "[-0.064, 0.057]\n",
    "\n",
    "# fit.conf_int(alpha=0.05, cols=(1)"
   ]
  },
  {
   "cell_type": "markdown",
   "metadata": {},
   "source": [
    " e. Compute the t statistics for testing H0 : β1 = 0 and H0 : β6 = 0. What conclusions can you draw?"
   ]
  },
  {
   "cell_type": "code",
   "execution_count": 61,
   "metadata": {},
   "outputs": [
    {
     "data": {
      "text/plain": [
       "<class 'statsmodels.stats.contrast.ContrastResults'>\n",
       "                             Test for Constraints                             \n",
       "==============================================================================\n",
       "                 coef    std err          t      P>|t|      [0.025      0.975]\n",
       "------------------------------------------------------------------------------\n",
       "c0            -0.0034      0.029     -0.119      0.907      -0.064       0.057\n",
       "=============================================================================="
      ]
     },
     "execution_count": 61,
     "metadata": {},
     "output_type": "execute_result"
    }
   ],
   "source": [
    "hypotheses = 'x1 = 0'\n",
    "fit.t_test(hypotheses)"
   ]
  },
  {
   "cell_type": "code",
   "execution_count": 62,
   "metadata": {},
   "outputs": [
    {
     "data": {
      "text/plain": [
       "<class 'statsmodels.stats.contrast.ContrastResults'>\n",
       "                             Test for Constraints                             \n",
       "==============================================================================\n",
       "                 coef    std err          t      P>|t|      [0.025      0.975]\n",
       "------------------------------------------------------------------------------\n",
       "c0             6.5751      3.142      2.092      0.049       0.020      13.130\n",
       "=============================================================================="
      ]
     },
     "execution_count": 62,
     "metadata": {},
     "output_type": "execute_result"
    }
   ],
   "source": [
    "hypotheses6 = 'x6 = 0'\n",
    "fit.t_test(hypotheses6)"
   ]
  },
  {
   "cell_type": "markdown",
   "metadata": {},
   "source": [
    "Reject null for x6"
   ]
  },
  {
   "cell_type": "markdown",
   "metadata": {},
   "source": [
    " f. Find a 95% CI on the mean gasoline mileage when x1 = 275 in. 3 and x6 = 2 barrels. "
   ]
  },
  {
   "cell_type": "code",
   "execution_count": 65,
   "metadata": {},
   "outputs": [
    {
     "data": {
      "text/plain": [
       "array([[ 6.56552345, 17.8457149 ]])"
      ]
     },
     "execution_count": 65,
     "metadata": {},
     "output_type": "execute_result"
    }
   ],
   "source": [
    "c = [275, 2]\n",
    "result = fit.get_prediction(c)\n",
    "result.conf_int(alpha=0.05)"
   ]
  },
  {
   "cell_type": "markdown",
   "metadata": {},
   "source": [
    "g. Find a 95% prediction interval for a new observation on gasoline mileage when x1 = 257 in. 3 and x6 = 2 barrels."
   ]
  },
  {
   "cell_type": "code",
   "execution_count": 66,
   "metadata": {},
   "outputs": [
    {
     "data": {
      "text/plain": [
       "[array([11.39608493]), array([13.01515342])]"
      ]
     },
     "execution_count": 66,
     "metadata": {},
     "output_type": "execute_result"
    }
   ],
   "source": [
    "sdev1, lower_pred1, upper_pred1 = wls_prediction_std(fit, c, alpha=0.95)\n",
    "[lower_pred1, upper_pred1]"
   ]
  }
 ],
 "metadata": {
  "kernelspec": {
   "display_name": "Python 3",
   "language": "python",
   "name": "python3"
  },
  "language_info": {
   "codemirror_mode": {
    "name": "ipython",
    "version": 3
   },
   "file_extension": ".py",
   "mimetype": "text/x-python",
   "name": "python",
   "nbconvert_exporter": "python",
   "pygments_lexer": "ipython3",
   "version": "3.7.7"
  }
 },
 "nbformat": 4,
 "nbformat_minor": 2
}
