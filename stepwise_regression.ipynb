{
 "cells": [
  {
   "cell_type": "markdown",
   "metadata": {},
   "source": [
    "Jaime Lynn<br>\n",
    "Module 10 Assignment"
   ]
  },
  {
   "cell_type": "code",
   "execution_count": 1,
   "metadata": {},
   "outputs": [],
   "source": [
    "import pandas as pd\n",
    "import numpy as np\n",
    "import itertools\n",
    "import statsmodels.api as sm\n",
    "import statsmodels.formula.api as smf\n",
    "import matplotlib.pyplot as plt\n",
    "import seaborn as sns"
   ]
  },
  {
   "cell_type": "markdown",
   "metadata": {},
   "source": [
    "#### Set 1:<br>\n",
   ]
  },
  {
   "cell_type": "code",
   "execution_count": 2,
   "metadata": {},
   "outputs": [
    {
     "name": "stdout",
     "output_type": "stream",
     "text": [
      "WARNING *** OLE2 inconsistency: SSCS size is 0 but SSAT size is non-zero\n"
     ]
    }
   ],
   "source": [
    "df1 = pd.read_excel('./data-table-B2.xls')\n",
    "df1 = df1.sample(20)"
   ]
  },
  {
   "cell_type": "code",
   "execution_count": 3,
   "metadata": {},
   "outputs": [],
   "source": [
    "regressor_full = df1.iloc[:,1:6].columns"
   ]
  },
  {
   "cell_type": "code",
   "execution_count": 4,
   "metadata": {},
   "outputs": [],
   "source": [
    "model_full = sm.OLS(df1['y'], df1[regressor_full])\n",
    "reg_full = model_full.fit()\n",
    "sse_full = reg_full.ssr\n",
    "mse_full = reg_full.mse_model"
   ]
  },
  {
   "cell_type": "markdown",
   "metadata": {},
   "source": [
    "a. Use forward selection to specify a subset regression model. \n"
   ]
  },
  {
   "cell_type": "code",
   "execution_count": 5,
   "metadata": {},
   "outputs": [],
   "source": [
    "def ols(df, regressor, y):\n",
    "    model = sm.OLS(df[y], df[regressor])\n",
    "    reg = model.fit();\n",
    "    mse = reg.mse_model\n",
    "    A = np.identity(len(reg.params))\n",
    "    sse = reg.ssr\n",
    "    reg.f_test(A)\n",
    "    return {\"model\": reg, \"sse\": sse, \"mse\":mse, \"pvalues\":reg.pvalues,  \"fvalue\": reg.fvalue, \"f_pvalue\": reg.f_pvalue}"
   ]
  },
  {
   "cell_type": "code",
   "execution_count": 6,
   "metadata": {},
   "outputs": [],
   "source": [
    "# Forward selection, starts with no regressors but the intercept\n",
    "# Then find optimal subset by inserting regressors one at a time.\n",
    "# First regressor is selected with the largest correlation with y\n",
    "# I put the results in in an array\n",
    "\n",
    "corr = df1.corr()['y'].sort_values(ascending=False)\n",
    "features = list(corr.keys()[1:]) # is correlation absolute?"
   ]
  },
  {
   "cell_type": "code",
   "execution_count": 23,
   "metadata": {},
   "outputs": [
    {
     "data": {
      "text/plain": [
       "['x3', 'x4']"
      ]
     },
     "execution_count": 23,
     "metadata": {},
     "output_type": "execute_result"
    }
   ],
   "source": [
    "results = []\n",
    "f_in = 0\n",
    "for i in range(1,6):\n",
    "    for c in itertools.combinations(features, i):\n",
    "        reg = ols(df1, list(c), 'y')\n",
    "        partial_f = (reg[\"sse\"] - sse_full)/(i)/mse_full\n",
    "        if (partial_f > f_in):\n",
    "            f_in = partial_f\n",
    "            results.append(c)\n",
    "        else:\n",
    "            break\n",
    "list(*zip(*results))"
   ]
  },
  {
   "cell_type": "markdown",
   "metadata": {},
   "source": [
    "b. Use backward elimination to specify a subset regression model. "
   ]
  },
  {
   "cell_type": "code",
   "execution_count": 19,
   "metadata": {},
   "outputs": [
    {
     "data": {
      "text/plain": [
       "['x4', 'x3']"
      ]
     },
     "execution_count": 19,
     "metadata": {},
     "output_type": "execute_result"
    }
   ],
   "source": [
    "# Backward selection, start with all regressors\n",
    "# Remove largest p-value\n",
    "results = features\n",
    "t_in = 0.01 #?\n",
    "t_out=0.05\n",
    "for i in range(6,1,-1):\n",
    "    for c in itertools.combinations(features, i):\n",
    "        reg = ols(df1, list(c), 'y')\n",
    "        worst_p = reg['pvalues'].max()\n",
    "        if (worst_p > t_out):\n",
    "            worst_feature = reg['pvalues'].idxmax()\n",
    "            features.remove(worst_feature)\n",
    "        else:\n",
    "            break\n",
    "list(set(results))"
   ]
  },
  {
   "cell_type": "markdown",
   "metadata": {},
   "source": [
    "c. Use stepwise regression to specify a subset regression model."
   ]
  },
  {
   "cell_type": "code",
   "execution_count": 27,
   "metadata": {},
   "outputs": [
    {
     "data": {
      "text/plain": [
       "['x4', 'x3']"
      ]
     },
     "execution_count": 27,
     "metadata": {},
     "output_type": "execute_result"
    }
   ],
   "source": [
    "results = []\n",
    "f_in = 0\n",
    "threshold_in=0.01\n",
    "threshold_out = 0.05\n",
    "\n",
    "# forward step\n",
    "f_in = 0\n",
    "for i in range(1,6):\n",
    "    for c in itertools.combinations(features, i):\n",
    "        reg = ols(df1, list(c), 'y')\n",
    "        partial_f = (reg[\"sse\"] - sse_full)/(i)/mse_full\n",
    "        if (partial_f > f_in):\n",
    "            f_in = partial_f\n",
    "            results.append(c)\n",
    "        else:\n",
    "            break\n",
    "results = list(*zip(*results))\n",
    "\n",
    "# backward step\n",
    "for i in range(6,1,-1):\n",
    "    for c in itertools.combinations(results, i):\n",
    "        reg = ols(df1, list(c), 'y')\n",
    "        worst_p = reg['pvalues'].max()\n",
    "        if (worst_p > t_out):\n",
    "            worst_feature = reg['pvalues'].idxmax()\n",
    "            features.remove(worst_feature)\n",
    "        else:\n",
    "            break\n",
    "list(set(results))"
   ]
  },
  {
   "cell_type": "markdown",
   "metadata": {},
   "source": [
    "d. Apply all possible regressions to the data. Evaluate Rp2, C p , and MSRes for each model. Which subset model do you recommend? "
   ]
  },
  {
   "cell_type": "code",
   "execution_count": 29,
   "metadata": {},
   "outputs": [],
   "source": [
    "# try all possible combination \n",
    "all_results=[]\n",
    "for i in range(1,6):\n",
    "    for c in itertools.combinations(features, i):\n",
    "        all_results.append(ols(df1, list(c), 'y'))\n",
    "model = pd.DataFrame(all_results)"
   ]
  },
  {
   "cell_type": "code",
   "execution_count": 34,
   "metadata": {},
   "outputs": [
    {
     "data": {
      "text/html": [
       "<table class=\"simpletable\">\n",
       "<caption>OLS Regression Results</caption>\n",
       "<tr>\n",
       "  <th>Dep. Variable:</th>            <td>y</td>        <th>  R-squared (uncentered):</th>      <td>   0.993</td>\n",
       "</tr>\n",
       "<tr>\n",
       "  <th>Model:</th>                   <td>OLS</td>       <th>  Adj. R-squared (uncentered):</th> <td>   0.993</td>\n",
       "</tr>\n",
       "<tr>\n",
       "  <th>Method:</th>             <td>Least Squares</td>  <th>  F-statistic:       </th>          <td>   1357.</td>\n",
       "</tr>\n",
       "<tr>\n",
       "  <th>Date:</th>             <td>Sun, 08 Nov 2020</td> <th>  Prob (F-statistic):</th>          <td>2.34e-20</td>\n",
       "</tr>\n",
       "<tr>\n",
       "  <th>Time:</th>                 <td>11:00:34</td>     <th>  Log-Likelihood:    </th>          <td> -88.706</td>\n",
       "</tr>\n",
       "<tr>\n",
       "  <th>No. Observations:</th>      <td>    20</td>      <th>  AIC:               </th>          <td>   181.4</td>\n",
       "</tr>\n",
       "<tr>\n",
       "  <th>Df Residuals:</th>          <td>    18</td>      <th>  BIC:               </th>          <td>   183.4</td>\n",
       "</tr>\n",
       "<tr>\n",
       "  <th>Df Model:</th>              <td>     2</td>      <th>                     </th>              <td> </td>   \n",
       "</tr>\n",
       "<tr>\n",
       "  <th>Covariance Type:</th>      <td>nonrobust</td>    <th>                     </th>              <td> </td>   \n",
       "</tr>\n",
       "</table>\n",
       "<table class=\"simpletable\">\n",
       "<tr>\n",
       "   <td></td>     <th>coef</th>     <th>std err</th>      <th>t</th>      <th>P>|t|</th>  <th>[0.025</th>    <th>0.975]</th>  \n",
       "</tr>\n",
       "<tr>\n",
       "  <th>x3</th> <td>   11.7894</td> <td>    2.074</td> <td>    5.683</td> <td> 0.000</td> <td>    7.431</td> <td>   16.148</td>\n",
       "</tr>\n",
       "<tr>\n",
       "  <th>x4</th> <td>  -10.2890</td> <td>    4.443</td> <td>   -2.316</td> <td> 0.033</td> <td>  -19.624</td> <td>   -0.954</td>\n",
       "</tr>\n",
       "</table>\n",
       "<table class=\"simpletable\">\n",
       "<tr>\n",
       "  <th>Omnibus:</th>       <td> 1.948</td> <th>  Durbin-Watson:     </th> <td>   0.996</td>\n",
       "</tr>\n",
       "<tr>\n",
       "  <th>Prob(Omnibus):</th> <td> 0.378</td> <th>  Jarque-Bera (JB):  </th> <td>   1.599</td>\n",
       "</tr>\n",
       "<tr>\n",
       "  <th>Skew:</th>          <td>-0.643</td> <th>  Prob(JB):          </th> <td>   0.450</td>\n",
       "</tr>\n",
       "<tr>\n",
       "  <th>Kurtosis:</th>      <td> 2.483</td> <th>  Cond. No.          </th> <td>    40.2</td>\n",
       "</tr>\n",
       "</table><br/><br/>Notes:<br/>[1] R² is computed without centering (uncentered) since the model does not contain a constant.<br/>[2] Standard Errors assume that the covariance matrix of the errors is correctly specified."
      ],
      "text/plain": [
       "<class 'statsmodels.iolib.summary.Summary'>\n",
       "\"\"\"\n",
       "                                 OLS Regression Results                                \n",
       "=======================================================================================\n",
       "Dep. Variable:                      y   R-squared (uncentered):                   0.993\n",
       "Model:                            OLS   Adj. R-squared (uncentered):              0.993\n",
       "Method:                 Least Squares   F-statistic:                              1357.\n",
       "Date:                Sun, 08 Nov 2020   Prob (F-statistic):                    2.34e-20\n",
       "Time:                        11:00:34   Log-Likelihood:                         -88.706\n",
       "No. Observations:                  20   AIC:                                      181.4\n",
       "Df Residuals:                      18   BIC:                                      183.4\n",
       "Df Model:                           2                                                  \n",
       "Covariance Type:            nonrobust                                                  \n",
       "==============================================================================\n",
       "                 coef    std err          t      P>|t|      [0.025      0.975]\n",
       "------------------------------------------------------------------------------\n",
       "x3            11.7894      2.074      5.683      0.000       7.431      16.148\n",
       "x4           -10.2890      4.443     -2.316      0.033     -19.624      -0.954\n",
       "==============================================================================\n",
       "Omnibus:                        1.948   Durbin-Watson:                   0.996\n",
       "Prob(Omnibus):                  0.378   Jarque-Bera (JB):                1.599\n",
       "Skew:                          -0.643   Prob(JB):                        0.450\n",
       "Kurtosis:                       2.483   Cond. No.                         40.2\n",
       "==============================================================================\n",
       "\n",
       "Notes:\n",
       "[1] R² is computed without centering (uncentered) since the model does not contain a constant.\n",
       "[2] Standard Errors assume that the covariance matrix of the errors is correctly specified.\n",
       "\"\"\""
      ]
     },
     "execution_count": 34,
     "metadata": {},
     "output_type": "execute_result"
    }
   ],
   "source": [
    "m = len(df1['y'])\n",
    "p = len(features)\n",
    "hat_sigma_squared = (1/(m - p -1)) * min(model['sse'])\n",
    "model['C_p'] = (1/m) * (model['sse'] + 2 * p * hat_sigma_squared )\n",
    "best_model = model.loc[model['C_p'].idxmin()]\n",
    "best_model['model'].summary()"
   ]
  },
  {
   "cell_type": "markdown",
   "metadata": {},
   "source": [
    "e. Compare and contrast the models produced by the variable selection\n",
    "strategies in parts a – d. "
   ]
  },
  {
   "cell_type": "markdown",
   "metadata": {},
   "source": [
    "Interesting. The results were the same, regressor x3 and x4."
   ]
  },
  {
   "cell_type": "markdown",
   "metadata": {},
   "source": [
    "#### Set 2: <br>\n",
   ]
  },
  {
   "cell_type": "code",
   "execution_count": 113,
   "metadata": {},
   "outputs": [
    {
     "name": "stdout",
     "output_type": "stream",
     "text": [
      "WARNING *** OLE2 inconsistency: SSCS size is 0 but SSAT size is non-zero\n"
     ]
    }
   ],
   "source": [
    "df2 = pd.read_excel('./data-table-B1.xls')\n",
    "df2 = df2.sample(20)"
   ]
  },
  {
   "cell_type": "markdown",
   "metadata": {},
   "source": [
    "a. Calculate the PRESS statistic for this model. What comments can you\n",
    "make about the likely predictive performance of this model? "
   ]
  },
  {
   "cell_type": "code",
   "execution_count": 130,
   "metadata": {},
   "outputs": [
    {
     "data": {
      "text/plain": [
       "73.8211801524132"
      ]
     },
     "execution_count": 130,
     "metadata": {},
     "output_type": "execute_result"
    }
   ],
   "source": [
    "feature2 = df2.iloc[:,1:9].columns\n",
    "model = sm.OLS(df2['y'], df2[feature2])\n",
    "reg = model.fit()\n",
    "infl = reg.get_influence()\n",
    "df2['PRESS']= infl.resid_press\n",
    "infl.ess_press"
   ]
  },
  {
   "cell_type": "markdown",
   "metadata": {},
   "source": [
    "The predictive performance is acceptable. "
   ]
  },
  {
   "cell_type": "markdown",
   "metadata": {},
   "source": [
    "b.  Delete half the observations (chosen at random), and refi t the regression\n",
    "model. Have the regression coeffi cients changed dramatically? How well\n",
    "does this model predict the number of games won for the deleted\n",
    "observations? "
   ]
  },
  {
   "cell_type": "code",
   "execution_count": 140,
   "metadata": {},
   "outputs": [],
   "source": [
    "sample = df2.sample(10)\n",
    "sample_location = sample.index\n",
    "deleted_location = df2.index.difference(sample_location)"
   ]
  },
  {
   "cell_type": "code",
   "execution_count": 153,
   "metadata": {},
   "outputs": [
    {
     "data": {
      "text/html": [
       "<div>\n",
       "<style scoped>\n",
       "    .dataframe tbody tr th:only-of-type {\n",
       "        vertical-align: middle;\n",
       "    }\n",
       "\n",
       "    .dataframe tbody tr th {\n",
       "        vertical-align: top;\n",
       "    }\n",
       "\n",
       "    .dataframe thead th {\n",
       "        text-align: right;\n",
       "    }\n",
       "</style>\n",
       "<table border=\"1\" class=\"dataframe\">\n",
       "  <thead>\n",
       "    <tr style=\"text-align: right;\">\n",
       "      <th></th>\n",
       "      <th>x1</th>\n",
       "      <th>x2</th>\n",
       "      <th>x3</th>\n",
       "      <th>x4</th>\n",
       "      <th>x5</th>\n",
       "      <th>x6</th>\n",
       "      <th>x7</th>\n",
       "      <th>x8</th>\n",
       "      <th>yhat</th>\n",
       "      <th>y</th>\n",
       "      <th>residual</th>\n",
       "    </tr>\n",
       "  </thead>\n",
       "  <tbody>\n",
       "    <tr>\n",
       "      <th>6</th>\n",
       "      <td>2528</td>\n",
       "      <td>2341</td>\n",
       "      <td>38.1</td>\n",
       "      <td>65.4</td>\n",
       "      <td>12</td>\n",
       "      <td>754</td>\n",
       "      <td>66.1</td>\n",
       "      <td>1564</td>\n",
       "      <td>9.085294</td>\n",
       "      <td>10</td>\n",
       "      <td>0.914706</td>\n",
       "    </tr>\n",
       "    <tr>\n",
       "      <th>8</th>\n",
       "      <td>1689</td>\n",
       "      <td>1414</td>\n",
       "      <td>42.1</td>\n",
       "      <td>47.6</td>\n",
       "      <td>-3</td>\n",
       "      <td>714</td>\n",
       "      <td>57.0</td>\n",
       "      <td>2577</td>\n",
       "      <td>-2.093828</td>\n",
       "      <td>4</td>\n",
       "      <td>6.093828</td>\n",
       "    </tr>\n",
       "    <tr>\n",
       "      <th>10</th>\n",
       "      <td>2363</td>\n",
       "      <td>1480</td>\n",
       "      <td>37.3</td>\n",
       "      <td>48.0</td>\n",
       "      <td>19</td>\n",
       "      <td>984</td>\n",
       "      <td>67.5</td>\n",
       "      <td>1984</td>\n",
       "      <td>2.286908</td>\n",
       "      <td>7</td>\n",
       "      <td>4.713092</td>\n",
       "    </tr>\n",
       "    <tr>\n",
       "      <th>11</th>\n",
       "      <td>2109</td>\n",
       "      <td>2191</td>\n",
       "      <td>39.5</td>\n",
       "      <td>51.9</td>\n",
       "      <td>6</td>\n",
       "      <td>700</td>\n",
       "      <td>57.2</td>\n",
       "      <td>1917</td>\n",
       "      <td>7.437081</td>\n",
       "      <td>10</td>\n",
       "      <td>2.562919</td>\n",
       "    </tr>\n",
       "    <tr>\n",
       "      <th>12</th>\n",
       "      <td>2295</td>\n",
       "      <td>2229</td>\n",
       "      <td>37.4</td>\n",
       "      <td>53.6</td>\n",
       "      <td>-5</td>\n",
       "      <td>1037</td>\n",
       "      <td>58.8</td>\n",
       "      <td>1761</td>\n",
       "      <td>13.051949</td>\n",
       "      <td>9</td>\n",
       "      <td>-4.051949</td>\n",
       "    </tr>\n",
       "    <tr>\n",
       "      <th>13</th>\n",
       "      <td>1932</td>\n",
       "      <td>2204</td>\n",
       "      <td>35.1</td>\n",
       "      <td>71.4</td>\n",
       "      <td>3</td>\n",
       "      <td>986</td>\n",
       "      <td>58.6</td>\n",
       "      <td>1709</td>\n",
       "      <td>6.921638</td>\n",
       "      <td>9</td>\n",
       "      <td>2.078362</td>\n",
       "    </tr>\n",
       "    <tr>\n",
       "      <th>17</th>\n",
       "      <td>1873</td>\n",
       "      <td>2929</td>\n",
       "      <td>41.1</td>\n",
       "      <td>55.3</td>\n",
       "      <td>10</td>\n",
       "      <td>789</td>\n",
       "      <td>54.3</td>\n",
       "      <td>2861</td>\n",
       "      <td>7.785768</td>\n",
       "      <td>5</td>\n",
       "      <td>-2.785768</td>\n",
       "    </tr>\n",
       "    <tr>\n",
       "      <th>23</th>\n",
       "      <td>2301</td>\n",
       "      <td>2835</td>\n",
       "      <td>35.3</td>\n",
       "      <td>74.1</td>\n",
       "      <td>2</td>\n",
       "      <td>683</td>\n",
       "      <td>59.7</td>\n",
       "      <td>1979</td>\n",
       "      <td>11.260310</td>\n",
       "      <td>10</td>\n",
       "      <td>-1.260310</td>\n",
       "    </tr>\n",
       "    <tr>\n",
       "      <th>24</th>\n",
       "      <td>2040</td>\n",
       "      <td>2416</td>\n",
       "      <td>38.7</td>\n",
       "      <td>50.0</td>\n",
       "      <td>0</td>\n",
       "      <td>576</td>\n",
       "      <td>54.9</td>\n",
       "      <td>2048</td>\n",
       "      <td>8.583762</td>\n",
       "      <td>6</td>\n",
       "      <td>-2.583762</td>\n",
       "    </tr>\n",
       "    <tr>\n",
       "      <th>26</th>\n",
       "      <td>1416</td>\n",
       "      <td>2649</td>\n",
       "      <td>37.4</td>\n",
       "      <td>56.3</td>\n",
       "      <td>-22</td>\n",
       "      <td>684</td>\n",
       "      <td>43.8</td>\n",
       "      <td>2876</td>\n",
       "      <td>8.491928</td>\n",
       "      <td>2</td>\n",
       "      <td>-6.491928</td>\n",
       "    </tr>\n",
       "  </tbody>\n",
       "</table>\n",
       "</div>"
      ],
      "text/plain": [
       "      x1    x2    x3    x4  x5    x6    x7    x8       yhat   y  residual\n",
       "6   2528  2341  38.1  65.4  12   754  66.1  1564   9.085294  10  0.914706\n",
       "8   1689  1414  42.1  47.6  -3   714  57.0  2577  -2.093828   4  6.093828\n",
       "10  2363  1480  37.3  48.0  19   984  67.5  1984   2.286908   7  4.713092\n",
       "11  2109  2191  39.5  51.9   6   700  57.2  1917   7.437081  10  2.562919\n",
       "12  2295  2229  37.4  53.6  -5  1037  58.8  1761  13.051949   9 -4.051949\n",
       "13  1932  2204  35.1  71.4   3   986  58.6  1709   6.921638   9  2.078362\n",
       "17  1873  2929  41.1  55.3  10   789  54.3  2861   7.785768   5 -2.785768\n",
       "23  2301  2835  35.3  74.1   2   683  59.7  1979  11.260310  10 -1.260310\n",
       "24  2040  2416  38.7  50.0   0   576  54.9  2048   8.583762   6 -2.583762\n",
       "26  1416  2649  37.4  56.3 -22   684  43.8  2876   8.491928   2 -6.491928"
      ]
     },
     "execution_count": 153,
     "metadata": {},
     "output_type": "execute_result"
    }
   ],
   "source": [
    "df2b = df2.loc[sample_location]\n",
    "feature2 = df2b.iloc[:,1:9].columns\n",
    "model2b = sm.OLS(df2b['y'], df2b[feature2])\n",
    "reg2b = model2b.fit()\n",
    "infl2b = reg2b.get_influence()\n",
    "df2b['PRESS']= infl2b.resid_press\n",
    "\n",
    "df2_del = df2.loc[deleted_location].iloc[:,1:9]\n",
    "df2_del['yhat'] = reg2b.predict(df2_del)\n",
    "df2_del['y'] = df2['y']\n",
    "df2_del['residual'] = df2_del['y']-df2_del['yhat']\n",
    "df2_del"
   ]
  },
  {
   "cell_type": "markdown",
   "metadata": {},
   "source": [
    "Doesn't predict great."
   ]
  }
 ],
 "metadata": {
  "kernelspec": {
   "display_name": "Python 3",
   "language": "python",
   "name": "python3"
  },
  "language_info": {
   "codemirror_mode": {
    "name": "ipython",
    "version": 3
   },
   "file_extension": ".py",
   "mimetype": "text/x-python",
   "name": "python",
   "nbconvert_exporter": "python",
   "pygments_lexer": "ipython3",
   "version": "3.7.7"
  }
 },
 "nbformat": 4,
 "nbformat_minor": 2
}
