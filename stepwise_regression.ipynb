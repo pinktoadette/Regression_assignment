{
 "cells": [
  {
   "cell_type": "code",
   "execution_count": 1,
   "metadata": {},
   "outputs": [],
   "source": [
    "import pandas as pd\n",
    "import numpy as np\n",
    "import statsmodels.api as sm\n",
    "import statsmodels.formula.api as smf\n",
    "import matplotlib.pyplot as plt\n",
    "import seaborn as sns\n",
    "\n",
    "## remove to hide computer path\n",
    "import warnings\n",
    "warnings.filterwarnings('ignore')"
   ]
  },
  {
   "cell_type": "markdown",
   "metadata": {},
   "source": [
    "#### Set 1"
   ]
  },
  {
   "cell_type": "code",
   "execution_count": 2,
   "metadata": {},
   "outputs": [
    {
     "name": "stdout",
     "output_type": "stream",
     "text": [
      "WARNING *** OLE2 inconsistency: SSCS size is 0 but SSAT size is non-zero\n"
     ]
    }
   ],
   "source": [
    "df1 = pd.read_excel('./data-table-B4.xls')\n",
    "temp = df1['y']\n",
    "cols = ['x1', 'x2','x3','x4','x5']\n",
    "df1 = df1.sample(14).loc[:, 'x1':'x5'] #.loc[:,'x1':'x9'].sample(5, axis=1) \n",
    "df1['y'] = temp"
   ]
  },
  {
   "cell_type": "code",
   "execution_count": 3,
   "metadata": {},
   "outputs": [],
   "source": [
    "X = df1[cols].values"
   ]
  },
  {
   "cell_type": "code",
   "execution_count": 21,
   "metadata": {},
   "outputs": [],
   "source": [
    "# looks like there's maybe categorical variables here, maybe need to convert those?\n",
    "\n",
    "def ols(df, regressor, y):\n",
    "    model = sm.OLS(df[y], df[regressor])\n",
    "    reg = model.fit();\n",
    "    mse = reg.mse_model\n",
    "    A = np.identity(len(reg.params))\n",
    "    rss = np.sum((reg.resid)**2)\n",
    "    reg.f_test(A)\n",
    "    return {\"model\": reg, \"rss\": rss, \"mse\":mse, \"fvalue\": reg.fvalue, \"f_pvalue\": reg.f_pvalue}"
   ]
  },
  {
   "cell_type": "code",
   "execution_count": 5,
   "metadata": {},
   "outputs": [],
   "source": [
    "import itertools\n",
    "results = []\n",
    "# try all possible combination \n",
    "for i in range(1,6):\n",
    "    for c in itertools.combinations(cols, i):\n",
    "        results.append(ols(df1, list(c), 'y'))\n",
    "models = pd.DataFrame(results)\n",
    "\n",
    "# select best mse outcome\n",
    "best_model = models.loc[models['mse'].idxmin()]"
   ]
  },
  {
   "cell_type": "code",
   "execution_count": 6,
   "metadata": {},
   "outputs": [
    {
     "data": {
      "text/html": [
       "<table class=\"simpletable\">\n",
       "<caption>OLS Regression Results</caption>\n",
       "<tr>\n",
       "  <th>Dep. Variable:</th>            <td>y</td>        <th>  R-squared (uncentered):</th>      <td>   0.997</td>\n",
       "</tr>\n",
       "<tr>\n",
       "  <th>Model:</th>                   <td>OLS</td>       <th>  Adj. R-squared (uncentered):</th> <td>   0.995</td>\n",
       "</tr>\n",
       "<tr>\n",
       "  <th>Method:</th>             <td>Least Squares</td>  <th>  F-statistic:       </th>          <td>   588.6</td>\n",
       "</tr>\n",
       "<tr>\n",
       "  <th>Date:</th>             <td>Wed, 25 Nov 2020</td> <th>  Prob (F-statistic):</th>          <td>4.92e-11</td>\n",
       "</tr>\n",
       "<tr>\n",
       "  <th>Time:</th>                 <td>14:34:51</td>     <th>  Log-Likelihood:    </th>          <td> -28.992</td>\n",
       "</tr>\n",
       "<tr>\n",
       "  <th>No. Observations:</th>      <td>    14</td>      <th>  AIC:               </th>          <td>   67.98</td>\n",
       "</tr>\n",
       "<tr>\n",
       "  <th>Df Residuals:</th>          <td>     9</td>      <th>  BIC:               </th>          <td>   71.18</td>\n",
       "</tr>\n",
       "<tr>\n",
       "  <th>Df Model:</th>              <td>     5</td>      <th>                     </th>              <td> </td>   \n",
       "</tr>\n",
       "<tr>\n",
       "  <th>Covariance Type:</th>      <td>nonrobust</td>    <th>                     </th>              <td> </td>   \n",
       "</tr>\n",
       "</table>\n",
       "<table class=\"simpletable\">\n",
       "<tr>\n",
       "   <td></td>     <th>coef</th>     <th>std err</th>      <th>t</th>      <th>P>|t|</th>  <th>[0.025</th>    <th>0.975]</th>  \n",
       "</tr>\n",
       "<tr>\n",
       "  <th>x1</th> <td>    1.7761</td> <td>    0.836</td> <td>    2.124</td> <td> 0.063</td> <td>   -0.115</td> <td>    3.667</td>\n",
       "</tr>\n",
       "<tr>\n",
       "  <th>x2</th> <td>    8.9520</td> <td>    3.594</td> <td>    2.491</td> <td> 0.034</td> <td>    0.822</td> <td>   17.082</td>\n",
       "</tr>\n",
       "<tr>\n",
       "  <th>x3</th> <td>    1.1510</td> <td>    0.676</td> <td>    1.702</td> <td> 0.123</td> <td>   -0.379</td> <td>    2.681</td>\n",
       "</tr>\n",
       "<tr>\n",
       "  <th>x4</th> <td>    3.9813</td> <td>    3.817</td> <td>    1.043</td> <td> 0.324</td> <td>   -4.652</td> <td>   12.615</td>\n",
       "</tr>\n",
       "<tr>\n",
       "  <th>x5</th> <td>    0.9798</td> <td>    1.489</td> <td>    0.658</td> <td> 0.527</td> <td>   -2.389</td> <td>    4.349</td>\n",
       "</tr>\n",
       "</table>\n",
       "<table class=\"simpletable\">\n",
       "<tr>\n",
       "  <th>Omnibus:</th>       <td> 0.917</td> <th>  Durbin-Watson:     </th> <td>   2.039</td>\n",
       "</tr>\n",
       "<tr>\n",
       "  <th>Prob(Omnibus):</th> <td> 0.632</td> <th>  Jarque-Bera (JB):  </th> <td>   0.778</td>\n",
       "</tr>\n",
       "<tr>\n",
       "  <th>Skew:</th>          <td>-0.318</td> <th>  Prob(JB):          </th> <td>   0.678</td>\n",
       "</tr>\n",
       "<tr>\n",
       "  <th>Kurtosis:</th>      <td> 2.037</td> <th>  Cond. No.          </th> <td>    68.4</td>\n",
       "</tr>\n",
       "</table><br/><br/>Notes:<br/>[1] R² is computed without centering (uncentered) since the model does not contain a constant.<br/>[2] Standard Errors assume that the covariance matrix of the errors is correctly specified."
      ],
      "text/plain": [
       "<class 'statsmodels.iolib.summary.Summary'>\n",
       "\"\"\"\n",
       "                                 OLS Regression Results                                \n",
       "=======================================================================================\n",
       "Dep. Variable:                      y   R-squared (uncentered):                   0.997\n",
       "Model:                            OLS   Adj. R-squared (uncentered):              0.995\n",
       "Method:                 Least Squares   F-statistic:                              588.6\n",
       "Date:                Wed, 25 Nov 2020   Prob (F-statistic):                    4.92e-11\n",
       "Time:                        14:34:51   Log-Likelihood:                         -28.992\n",
       "No. Observations:                  14   AIC:                                      67.98\n",
       "Df Residuals:                       9   BIC:                                      71.18\n",
       "Df Model:                           5                                                  \n",
       "Covariance Type:            nonrobust                                                  \n",
       "==============================================================================\n",
       "                 coef    std err          t      P>|t|      [0.025      0.975]\n",
       "------------------------------------------------------------------------------\n",
       "x1             1.7761      0.836      2.124      0.063      -0.115       3.667\n",
       "x2             8.9520      3.594      2.491      0.034       0.822      17.082\n",
       "x3             1.1510      0.676      1.702      0.123      -0.379       2.681\n",
       "x4             3.9813      3.817      1.043      0.324      -4.652      12.615\n",
       "x5             0.9798      1.489      0.658      0.527      -2.389       4.349\n",
       "==============================================================================\n",
       "Omnibus:                        0.917   Durbin-Watson:                   2.039\n",
       "Prob(Omnibus):                  0.632   Jarque-Bera (JB):                0.778\n",
       "Skew:                          -0.318   Prob(JB):                        0.678\n",
       "Kurtosis:                       2.037   Cond. No.                         68.4\n",
       "==============================================================================\n",
       "\n",
       "Notes:\n",
       "[1] R² is computed without centering (uncentered) since the model does not contain a constant.\n",
       "[2] Standard Errors assume that the covariance matrix of the errors is correctly specified.\n",
       "\"\"\""
      ]
     },
     "execution_count": 6,
     "metadata": {},
     "output_type": "execute_result"
    }
   ],
   "source": [
    "best_model[\"model\"].summary()"
   ]
  },
  {
   "cell_type": "markdown",
   "metadata": {},
   "source": [
    "#### Resulted in only one regressor x1\n",
    "\n",
    "### Stepwise - Forward\n",
    "- Find an optimal subset by inserting regressors into the model\n",
    "- First regressor has highest correlation\n",
    "- Perform F-test;"
   ]
  },
  {
   "cell_type": "code",
   "execution_count": 7,
   "metadata": {},
   "outputs": [],
   "source": [
    "corr = df1.corr()['y'].sort_values(ascending=False)\n",
    "features = list(corr.keys()[1:])"
   ]
  },
  {
   "cell_type": "code",
   "execution_count": 8,
   "metadata": {},
   "outputs": [
    {
     "data": {
      "text/html": [
       "<table class=\"simpletable\">\n",
       "<caption>OLS Regression Results</caption>\n",
       "<tr>\n",
       "  <th>Dep. Variable:</th>            <td>y</td>        <th>  R-squared (uncentered):</th>      <td>   0.988</td>\n",
       "</tr>\n",
       "<tr>\n",
       "  <th>Model:</th>                   <td>OLS</td>       <th>  Adj. R-squared (uncentered):</th> <td>   0.987</td>\n",
       "</tr>\n",
       "<tr>\n",
       "  <th>Method:</th>             <td>Least Squares</td>  <th>  F-statistic:       </th>          <td>   1033.</td>\n",
       "</tr>\n",
       "<tr>\n",
       "  <th>Date:</th>             <td>Wed, 25 Nov 2020</td> <th>  Prob (F-statistic):</th>          <td>8.97e-14</td>\n",
       "</tr>\n",
       "<tr>\n",
       "  <th>Time:</th>                 <td>14:34:53</td>     <th>  Log-Likelihood:    </th>          <td> -38.828</td>\n",
       "</tr>\n",
       "<tr>\n",
       "  <th>No. Observations:</th>      <td>    14</td>      <th>  AIC:               </th>          <td>   79.66</td>\n",
       "</tr>\n",
       "<tr>\n",
       "  <th>Df Residuals:</th>          <td>    13</td>      <th>  BIC:               </th>          <td>   80.30</td>\n",
       "</tr>\n",
       "<tr>\n",
       "  <th>Df Model:</th>              <td>     1</td>      <th>                     </th>              <td> </td>   \n",
       "</tr>\n",
       "<tr>\n",
       "  <th>Covariance Type:</th>      <td>nonrobust</td>    <th>                     </th>              <td> </td>   \n",
       "</tr>\n",
       "</table>\n",
       "<table class=\"simpletable\">\n",
       "<tr>\n",
       "   <td></td>     <th>coef</th>     <th>std err</th>      <th>t</th>      <th>P>|t|</th>  <th>[0.025</th>    <th>0.975]</th>  \n",
       "</tr>\n",
       "<tr>\n",
       "  <th>x1</th> <td>    5.4142</td> <td>    0.168</td> <td>   32.140</td> <td> 0.000</td> <td>    5.050</td> <td>    5.778</td>\n",
       "</tr>\n",
       "</table>\n",
       "<table class=\"simpletable\">\n",
       "<tr>\n",
       "  <th>Omnibus:</th>       <td> 1.487</td> <th>  Durbin-Watson:     </th> <td>   2.801</td>\n",
       "</tr>\n",
       "<tr>\n",
       "  <th>Prob(Omnibus):</th> <td> 0.475</td> <th>  Jarque-Bera (JB):  </th> <td>   1.160</td>\n",
       "</tr>\n",
       "<tr>\n",
       "  <th>Skew:</th>          <td>-0.535</td> <th>  Prob(JB):          </th> <td>   0.560</td>\n",
       "</tr>\n",
       "<tr>\n",
       "  <th>Kurtosis:</th>      <td> 2.082</td> <th>  Cond. No.          </th> <td>    1.00</td>\n",
       "</tr>\n",
       "</table><br/><br/>Notes:<br/>[1] R² is computed without centering (uncentered) since the model does not contain a constant.<br/>[2] Standard Errors assume that the covariance matrix of the errors is correctly specified."
      ],
      "text/plain": [
       "<class 'statsmodels.iolib.summary.Summary'>\n",
       "\"\"\"\n",
       "                                 OLS Regression Results                                \n",
       "=======================================================================================\n",
       "Dep. Variable:                      y   R-squared (uncentered):                   0.988\n",
       "Model:                            OLS   Adj. R-squared (uncentered):              0.987\n",
       "Method:                 Least Squares   F-statistic:                              1033.\n",
       "Date:                Wed, 25 Nov 2020   Prob (F-statistic):                    8.97e-14\n",
       "Time:                        14:34:53   Log-Likelihood:                         -38.828\n",
       "No. Observations:                  14   AIC:                                      79.66\n",
       "Df Residuals:                      13   BIC:                                      80.30\n",
       "Df Model:                           1                                                  \n",
       "Covariance Type:            nonrobust                                                  \n",
       "==============================================================================\n",
       "                 coef    std err          t      P>|t|      [0.025      0.975]\n",
       "------------------------------------------------------------------------------\n",
       "x1             5.4142      0.168     32.140      0.000       5.050       5.778\n",
       "==============================================================================\n",
       "Omnibus:                        1.487   Durbin-Watson:                   2.801\n",
       "Prob(Omnibus):                  0.475   Jarque-Bera (JB):                1.160\n",
       "Skew:                          -0.535   Prob(JB):                        0.560\n",
       "Kurtosis:                       2.082   Cond. No.                         1.00\n",
       "==============================================================================\n",
       "\n",
       "Notes:\n",
       "[1] R² is computed without centering (uncentered) since the model does not contain a constant.\n",
       "[2] Standard Errors assume that the covariance matrix of the errors is correctly specified.\n",
       "\"\"\""
      ]
     },
     "execution_count": 8,
     "metadata": {},
     "output_type": "execute_result"
    }
   ],
   "source": [
    "for i in range(1,6):\n",
    "    for c in itertools.combinations(features, i):\n",
    "        results.append(ols(df1, list(c), 'y'))\n",
    "models = pd.DataFrame(results)\n",
    "models.sort_values(by='fvalue', ascending=False)['model'][0].summary()"
   ]
  },
  {
   "cell_type": "markdown",
   "metadata": {},
   "source": [
    "#### Result is not the same.\n",
    "<br><br>"
   ]
  },
  {
   "cell_type": "markdown",
   "metadata": {},
   "source": [
    "#### Set 2"
   ]
  },
  {
   "cell_type": "code",
   "execution_count": 12,
   "metadata": {},
   "outputs": [
    {
     "name": "stdout",
     "output_type": "stream",
     "text": [
      "WARNING *** OLE2 inconsistency: SSCS size is 0 but SSAT size is non-zero\n"
     ]
    }
   ],
   "source": [
    "df2 = pd.read_excel('./data-table-B11.xls')\n",
    "df2 = df2.sample(14)\n",
    "y = df2['Quality']"
   ]
  },
  {
   "cell_type": "code",
   "execution_count": 13,
   "metadata": {},
   "outputs": [
    {
     "data": {
      "text/plain": [
       "['Clarity', 'Aroma', 'Body', 'Flavor', 'Oakiness', 'Region']"
      ]
     },
     "execution_count": 13,
     "metadata": {},
     "output_type": "execute_result"
    }
   ],
   "source": [
    "cols = list(df2.columns)\n",
    "cols.remove('Quality')\n",
    "cols"
   ]
  },
  {
   "cell_type": "code",
   "execution_count": 14,
   "metadata": {},
   "outputs": [],
   "source": [
    "results2 = []\n",
    "# try all possible combination \n",
    "for i in range(1,6):\n",
    "    for c in itertools.combinations(cols, i):\n",
    "        results2.append(ols(df2, list(c), 'Quality'))\n",
    "models = pd.DataFrame(results2)\n",
    "\n",
    "# select best mse outcome\n",
    "best_model = models.loc[models['mse'].idxmin()]"
   ]
  },
  {
   "cell_type": "markdown",
   "metadata": {},
   "source": [
    "1)"
   ]
  },
  {
   "cell_type": "code",
   "execution_count": 15,
   "metadata": {},
   "outputs": [
    {
     "data": {
      "text/html": [
       "<table class=\"simpletable\">\n",
       "<caption>OLS Regression Results</caption>\n",
       "<tr>\n",
       "  <th>Dep. Variable:</th>         <td>Quality</td>     <th>  R-squared (uncentered):</th>      <td>   0.991</td>\n",
       "</tr>\n",
       "<tr>\n",
       "  <th>Model:</th>                   <td>OLS</td>       <th>  Adj. R-squared (uncentered):</th> <td>   0.985</td>\n",
       "</tr>\n",
       "<tr>\n",
       "  <th>Method:</th>             <td>Least Squares</td>  <th>  F-statistic:       </th>          <td>   189.1</td>\n",
       "</tr>\n",
       "<tr>\n",
       "  <th>Date:</th>             <td>Wed, 25 Nov 2020</td> <th>  Prob (F-statistic):</th>          <td>7.86e-09</td>\n",
       "</tr>\n",
       "<tr>\n",
       "  <th>Time:</th>                 <td>14:35:33</td>     <th>  Log-Likelihood:    </th>          <td> -23.586</td>\n",
       "</tr>\n",
       "<tr>\n",
       "  <th>No. Observations:</th>      <td>    14</td>      <th>  AIC:               </th>          <td>   57.17</td>\n",
       "</tr>\n",
       "<tr>\n",
       "  <th>Df Residuals:</th>          <td>     9</td>      <th>  BIC:               </th>          <td>   60.37</td>\n",
       "</tr>\n",
       "<tr>\n",
       "  <th>Df Model:</th>              <td>     5</td>      <th>                     </th>              <td> </td>   \n",
       "</tr>\n",
       "<tr>\n",
       "  <th>Covariance Type:</th>      <td>nonrobust</td>    <th>                     </th>              <td> </td>   \n",
       "</tr>\n",
       "</table>\n",
       "<table class=\"simpletable\">\n",
       "<tr>\n",
       "      <td></td>        <th>coef</th>     <th>std err</th>      <th>t</th>      <th>P>|t|</th>  <th>[0.025</th>    <th>0.975]</th>  \n",
       "</tr>\n",
       "<tr>\n",
       "  <th>Aroma</th>    <td>    0.8598</td> <td>    0.797</td> <td>    1.079</td> <td> 0.309</td> <td>   -0.943</td> <td>    2.662</td>\n",
       "</tr>\n",
       "<tr>\n",
       "  <th>Body</th>     <td>    1.6283</td> <td>    0.853</td> <td>    1.908</td> <td> 0.089</td> <td>   -0.302</td> <td>    3.559</td>\n",
       "</tr>\n",
       "<tr>\n",
       "  <th>Flavor</th>   <td>    1.0531</td> <td>    0.669</td> <td>    1.574</td> <td> 0.150</td> <td>   -0.460</td> <td>    2.567</td>\n",
       "</tr>\n",
       "<tr>\n",
       "  <th>Oakiness</th> <td>   -0.8493</td> <td>    0.758</td> <td>   -1.120</td> <td> 0.292</td> <td>   -2.564</td> <td>    0.865</td>\n",
       "</tr>\n",
       "<tr>\n",
       "  <th>Region</th>   <td>   -0.3591</td> <td>    0.748</td> <td>   -0.480</td> <td> 0.642</td> <td>   -2.051</td> <td>    1.332</td>\n",
       "</tr>\n",
       "</table>\n",
       "<table class=\"simpletable\">\n",
       "<tr>\n",
       "  <th>Omnibus:</th>       <td> 0.407</td> <th>  Durbin-Watson:     </th> <td>   2.529</td>\n",
       "</tr>\n",
       "<tr>\n",
       "  <th>Prob(Omnibus):</th> <td> 0.816</td> <th>  Jarque-Bera (JB):  </th> <td>   0.449</td>\n",
       "</tr>\n",
       "<tr>\n",
       "  <th>Skew:</th>          <td> 0.322</td> <th>  Prob(JB):          </th> <td>   0.799</td>\n",
       "</tr>\n",
       "<tr>\n",
       "  <th>Kurtosis:</th>      <td> 2.405</td> <th>  Cond. No.          </th> <td>    26.8</td>\n",
       "</tr>\n",
       "</table><br/><br/>Notes:<br/>[1] R² is computed without centering (uncentered) since the model does not contain a constant.<br/>[2] Standard Errors assume that the covariance matrix of the errors is correctly specified."
      ],
      "text/plain": [
       "<class 'statsmodels.iolib.summary.Summary'>\n",
       "\"\"\"\n",
       "                                 OLS Regression Results                                \n",
       "=======================================================================================\n",
       "Dep. Variable:                Quality   R-squared (uncentered):                   0.991\n",
       "Model:                            OLS   Adj. R-squared (uncentered):              0.985\n",
       "Method:                 Least Squares   F-statistic:                              189.1\n",
       "Date:                Wed, 25 Nov 2020   Prob (F-statistic):                    7.86e-09\n",
       "Time:                        14:35:33   Log-Likelihood:                         -23.586\n",
       "No. Observations:                  14   AIC:                                      57.17\n",
       "Df Residuals:                       9   BIC:                                      60.37\n",
       "Df Model:                           5                                                  \n",
       "Covariance Type:            nonrobust                                                  \n",
       "==============================================================================\n",
       "                 coef    std err          t      P>|t|      [0.025      0.975]\n",
       "------------------------------------------------------------------------------\n",
       "Aroma          0.8598      0.797      1.079      0.309      -0.943       2.662\n",
       "Body           1.6283      0.853      1.908      0.089      -0.302       3.559\n",
       "Flavor         1.0531      0.669      1.574      0.150      -0.460       2.567\n",
       "Oakiness      -0.8493      0.758     -1.120      0.292      -2.564       0.865\n",
       "Region        -0.3591      0.748     -0.480      0.642      -2.051       1.332\n",
       "==============================================================================\n",
       "Omnibus:                        0.407   Durbin-Watson:                   2.529\n",
       "Prob(Omnibus):                  0.816   Jarque-Bera (JB):                0.449\n",
       "Skew:                           0.322   Prob(JB):                        0.799\n",
       "Kurtosis:                       2.405   Cond. No.                         26.8\n",
       "==============================================================================\n",
       "\n",
       "Notes:\n",
       "[1] R² is computed without centering (uncentered) since the model does not contain a constant.\n",
       "[2] Standard Errors assume that the covariance matrix of the errors is correctly specified.\n",
       "\"\"\""
      ]
     },
     "execution_count": 15,
     "metadata": {},
     "output_type": "execute_result"
    }
   ],
   "source": [
    "best_model['model'].summary()"
   ]
  },
  {
   "cell_type": "markdown",
   "metadata": {},
   "source": [
    "2) Transform region as dummy, then use Mallow's Cp\n",
    "<br>"
   ]
  },
  {
   "cell_type": "code",
   "execution_count": 16,
   "metadata": {},
   "outputs": [],
   "source": [
    "dummies = pd.get_dummies(df2['Region'], prefix=\"region\")\n",
    "cols.remove('Region')\n",
    "df3 = pd.concat([df2[cols], dummies], axis=1)"
   ]
  },
  {
   "cell_type": "code",
   "execution_count": 17,
   "metadata": {},
   "outputs": [],
   "source": [
    "df3['Quality'] = y"
   ]
  },
  {
   "cell_type": "code",
   "execution_count": 18,
   "metadata": {},
   "outputs": [],
   "source": [
    "results3 = []\n",
    "# try all possible combination \n",
    "for i in range(1,6):\n",
    "    for c in itertools.combinations(cols, i):\n",
    "        results3.append(ols(df3, list(c), 'Quality'))\n",
    "model3 = pd.DataFrame(results3)"
   ]
  },
  {
   "cell_type": "code",
   "execution_count": 19,
   "metadata": {},
   "outputs": [],
   "source": [
    "m = len(df3['Quality'])\n",
    "p = len(cols)+len(dummies) + 1\n",
    "hat_sigma_squared = (1/(m - p -1)) * min(model3['rss'])\n",
    "model3['C_p'] = (1/m) * (model3['rss'] + 2 * p * hat_sigma_squared )"
   ]
  },
  {
   "cell_type": "code",
   "execution_count": 20,
   "metadata": {},
   "outputs": [
    {
     "data": {
      "text/html": [
       "<table class=\"simpletable\">\n",
       "<caption>OLS Regression Results</caption>\n",
       "<tr>\n",
       "  <th>Dep. Variable:</th>         <td>Quality</td>     <th>  R-squared (uncentered):</th>      <td>   0.996</td>\n",
       "</tr>\n",
       "<tr>\n",
       "  <th>Model:</th>                   <td>OLS</td>       <th>  Adj. R-squared (uncentered):</th> <td>   0.994</td>\n",
       "</tr>\n",
       "<tr>\n",
       "  <th>Method:</th>             <td>Least Squares</td>  <th>  F-statistic:       </th>          <td>   434.5</td>\n",
       "</tr>\n",
       "<tr>\n",
       "  <th>Date:</th>             <td>Wed, 25 Nov 2020</td> <th>  Prob (F-statistic):</th>          <td>1.92e-10</td>\n",
       "</tr>\n",
       "<tr>\n",
       "  <th>Time:</th>                 <td>14:35:34</td>     <th>  Log-Likelihood:    </th>          <td> -17.798</td>\n",
       "</tr>\n",
       "<tr>\n",
       "  <th>No. Observations:</th>      <td>    14</td>      <th>  AIC:               </th>          <td>   45.60</td>\n",
       "</tr>\n",
       "<tr>\n",
       "  <th>Df Residuals:</th>          <td>     9</td>      <th>  BIC:               </th>          <td>   48.79</td>\n",
       "</tr>\n",
       "<tr>\n",
       "  <th>Df Model:</th>              <td>     5</td>      <th>                     </th>              <td> </td>   \n",
       "</tr>\n",
       "<tr>\n",
       "  <th>Covariance Type:</th>      <td>nonrobust</td>    <th>                     </th>              <td> </td>   \n",
       "</tr>\n",
       "</table>\n",
       "<table class=\"simpletable\">\n",
       "<tr>\n",
       "      <td></td>        <th>coef</th>     <th>std err</th>      <th>t</th>      <th>P>|t|</th>  <th>[0.025</th>    <th>0.975]</th>  \n",
       "</tr>\n",
       "<tr>\n",
       "  <th>Clarity</th>  <td>    6.6501</td> <td>    1.912</td> <td>    3.479</td> <td> 0.007</td> <td>    2.326</td> <td>   10.975</td>\n",
       "</tr>\n",
       "<tr>\n",
       "  <th>Aroma</th>    <td>    0.3324</td> <td>    0.500</td> <td>    0.665</td> <td> 0.523</td> <td>   -0.799</td> <td>    1.464</td>\n",
       "</tr>\n",
       "<tr>\n",
       "  <th>Body</th>     <td>    1.1884</td> <td>    0.542</td> <td>    2.193</td> <td> 0.056</td> <td>   -0.038</td> <td>    2.414</td>\n",
       "</tr>\n",
       "<tr>\n",
       "  <th>Flavor</th>   <td>    0.9796</td> <td>    0.436</td> <td>    2.249</td> <td> 0.051</td> <td>   -0.006</td> <td>    1.965</td>\n",
       "</tr>\n",
       "<tr>\n",
       "  <th>Oakiness</th> <td>   -1.2414</td> <td>    0.443</td> <td>   -2.802</td> <td> 0.021</td> <td>   -2.243</td> <td>   -0.239</td>\n",
       "</tr>\n",
       "</table>\n",
       "<table class=\"simpletable\">\n",
       "<tr>\n",
       "  <th>Omnibus:</th>       <td> 3.394</td> <th>  Durbin-Watson:     </th> <td>   2.217</td>\n",
       "</tr>\n",
       "<tr>\n",
       "  <th>Prob(Omnibus):</th> <td> 0.183</td> <th>  Jarque-Bera (JB):  </th> <td>   1.376</td>\n",
       "</tr>\n",
       "<tr>\n",
       "  <th>Skew:</th>          <td>-0.727</td> <th>  Prob(JB):          </th> <td>   0.503</td>\n",
       "</tr>\n",
       "<tr>\n",
       "  <th>Kurtosis:</th>      <td> 3.492</td> <th>  Cond. No.          </th> <td>    66.5</td>\n",
       "</tr>\n",
       "</table><br/><br/>Notes:<br/>[1] R² is computed without centering (uncentered) since the model does not contain a constant.<br/>[2] Standard Errors assume that the covariance matrix of the errors is correctly specified."
      ],
      "text/plain": [
       "<class 'statsmodels.iolib.summary.Summary'>\n",
       "\"\"\"\n",
       "                                 OLS Regression Results                                \n",
       "=======================================================================================\n",
       "Dep. Variable:                Quality   R-squared (uncentered):                   0.996\n",
       "Model:                            OLS   Adj. R-squared (uncentered):              0.994\n",
       "Method:                 Least Squares   F-statistic:                              434.5\n",
       "Date:                Wed, 25 Nov 2020   Prob (F-statistic):                    1.92e-10\n",
       "Time:                        14:35:34   Log-Likelihood:                         -17.798\n",
       "No. Observations:                  14   AIC:                                      45.60\n",
       "Df Residuals:                       9   BIC:                                      48.79\n",
       "Df Model:                           5                                                  \n",
       "Covariance Type:            nonrobust                                                  \n",
       "==============================================================================\n",
       "                 coef    std err          t      P>|t|      [0.025      0.975]\n",
       "------------------------------------------------------------------------------\n",
       "Clarity        6.6501      1.912      3.479      0.007       2.326      10.975\n",
       "Aroma          0.3324      0.500      0.665      0.523      -0.799       1.464\n",
       "Body           1.1884      0.542      2.193      0.056      -0.038       2.414\n",
       "Flavor         0.9796      0.436      2.249      0.051      -0.006       1.965\n",
       "Oakiness      -1.2414      0.443     -2.802      0.021      -2.243      -0.239\n",
       "==============================================================================\n",
       "Omnibus:                        3.394   Durbin-Watson:                   2.217\n",
       "Prob(Omnibus):                  0.183   Jarque-Bera (JB):                1.376\n",
       "Skew:                          -0.727   Prob(JB):                        0.503\n",
       "Kurtosis:                       3.492   Cond. No.                         66.5\n",
       "==============================================================================\n",
       "\n",
       "Notes:\n",
       "[1] R² is computed without centering (uncentered) since the model does not contain a constant.\n",
       "[2] Standard Errors assume that the covariance matrix of the errors is correctly specified.\n",
       "\"\"\""
      ]
     },
     "execution_count": 20,
     "metadata": {},
     "output_type": "execute_result"
    }
   ],
   "source": [
    "best_model = model3.loc[model3['C_p'].idxmin()]\n",
    "best_model['model'].summary()"
   ]
  }
 ],
 "metadata": {
  "kernelspec": {
   "display_name": "Python 3",
   "language": "python",
   "name": "python3"
  },
  "language_info": {
   "codemirror_mode": {
    "name": "ipython",
    "version": 3
   },
   "file_extension": ".py",
   "mimetype": "text/x-python",
   "name": "python",
   "nbconvert_exporter": "python",
   "pygments_lexer": "ipython3",
   "version": "3.7.7"
  }
 },
 "nbformat": 4,
 "nbformat_minor": 2
}
